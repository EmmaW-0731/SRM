{
  "nbformat": 4,
  "nbformat_minor": 0,
  "metadata": {
    "colab": {
      "provenance": []
    },
    "kernelspec": {
      "name": "python3",
      "display_name": "Python 3"
    },
    "language_info": {
      "name": "python"
    }
  },
  "cells": [
    {
      "cell_type": "code",
      "source": [
        "import numpy as np\n",
        "import matplotlib.pyplot as plt"
      ],
      "metadata": {
        "id": "X-ezuFPfAp1-"
      },
      "execution_count": null,
      "outputs": []
    },
    {
      "cell_type": "code",
      "execution_count": null,
      "metadata": {
        "colab": {
          "base_uri": "https://localhost:8080/",
          "height": 278
        },
        "id": "5Ewx96Pl5eCj",
        "outputId": "eedade22-1fa3-4687-ca33-43106a9238e0"
      },
      "outputs": [
        {
          "output_type": "display_data",
          "data": {
            "text/plain": [
              "<Figure size 432x288 with 1 Axes>"
            ],
            "image/png": "[encoded data removed]"
          },
          "metadata": {
            "needs_background": "light"
          }
        }
      ],
      "source": [
        "#SRM Weight function 1\n",
        "x_weight = np.array([ 0, 0.5, 0.9, 1])\n",
        "y_weight = np.array([ 0, 0, 1, 6])\n",
        "\n",
        "fig, ax =plt.subplots()\n",
        "plt.step(x_weight, y_weight)\n",
        "plt.fill_between(x_weight,y_weight, step=\"pre\", alpha=0.4, color='LightSkyBlue')\n",
        "#ax.set_xticklabels([ 0, 0.5, 0.9, 0.95, 0.99, 0.995, 0.9998,1])\n",
        "ax.set_xticks([ 0, 0.5, 0.9, 1])\n",
        "plt.xlabel(\"p\")\n",
        "plt.ylabel(\"b\")\n",
        "plt.show()"
      ]
    },
    {
      "cell_type": "code",
      "source": [
        "#SRM Weight function 2\n",
        "x_weight = np.array([ 0, 0.5, 0.9, 1])\n",
        "y_weight = np.array([ 0, 0, 0.1, 96])\n",
        "\n",
        "fig, ax =plt.subplots()\n",
        "plt.step(x_weight, y_weight)\n",
        "plt.fill_between(x_weight,y_weight, step=\"pre\", alpha=0.4, color='LightSkyBlue')\n",
        "#ax.set_xticklabels([ 0, 0.5, 0.9, 0.95, 0.99, 0.995, 0.9998,1])\n",
        "ax.set_xticks([ 0, 0.5, 0.9, 1])\n",
        "plt.xlabel(\"p\")\n",
        "plt.ylabel(\"b\")\n",
        "plt.show()"
      ],
      "metadata": {
        "colab": {
          "base_uri": "https://localhost:8080/",
          "height": 281
        },
        "id": "VrCXBwjsAh5q",
        "outputId": "9ea13230-b6b8-4bca-a35a-1ecefaa96362"
      },
      "execution_count": 1,
      "outputs": [
        {
          "output_type": "display_data",
          "data": {
            "text/plain": [
              "<Figure size 432x288 with 1 Axes>"
            ],
            "image/png": "[encoded data removed]"
          },
          "metadata": {
            "needs_background": "light"
          }
        }
      ]
    },
    {
      "cell_type": "code",
      "source": [
        "#SRM Weight function 3\n",
        "x_weight = np.array([ 0, 0.5, 0.9, 0.95, 0.99, 0.995, 0.9998,1])\n",
        "y_weight = np.array([ 0, 0, 1.66, 2.5, 3.74, 5.62, 8.42, 12.64])\n",
        "\n",
        "fig, ax =plt.subplots()\n",
        "plt.step(x_weight, y_weight)\n",
        "plt.fill_between(x_weight,y_weight, step=\"pre\", alpha=0.4, color='LightSkyBlue')\n",
        "ax.set_xticklabels([ 0, 0.5, 0.9, 0.95, 0.99, 0.995, 0.9998,1])\n",
        "#ax.set_xticks([ 0, 0.5, 0.9, 0.95, 0.99, 0.995, 0.9998,1])\n",
        "plt.xlabel(\"p\")\n",
        "plt.ylabel(\"b\")\n",
        "plt.show()"
      ],
      "metadata": {
        "colab": {
          "base_uri": "https://localhost:8080/",
          "height": 278
        },
        "id": "h5pa7j2nAj7n",
        "outputId": "cc79753a-fc6e-49d4-c165-9e6b92216f6f"
      },
      "execution_count": 2,
      "outputs": [
        {
          "output_type": "display_data",
          "data": {
            "text/plain": [
              "<Figure size 432x288 with 1 Axes>"
            ],
            "image/png": "[encoded data removed]"
          },
          "metadata": {
            "needs_background": "light"
          }
        }
      ]
    }
  ]
}